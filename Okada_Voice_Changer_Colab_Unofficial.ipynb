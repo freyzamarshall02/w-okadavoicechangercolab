{
  "cells": [
    {
      "cell_type": "markdown",
      "metadata": {
        "id": "view-in-github",
        "colab_type": "text"
      },
      "source": [
        "<a href=\"https://colab.research.google.com/github/freyzamarshall02/w-okadavoicechangercolab/blob/main/Okada_Voice_Changer_Colab_Unofficial.ipynb\" target=\"_parent\"><img src=\"https://colab.research.google.com/assets/colab-badge.svg\" alt=\"Open In Colab\"/></a>"
      ]
    },
    {
      "cell_type": "markdown",
      "metadata": {
        "id": "9EnR6lSmXBCN"
      },
      "source": [
        "<h1 style=\"text-align: center;\">\n",
        "  <span style=\"color: #00ffff;\">OKADA VOICE CHANGER COLAB (UNOFFICIAL)</span>\n",
        "</h1>\n",
        "\n",
        "<hr />\n",
        "  <h2 style=\"text-align: center;\">\n",
        "\n",
        "  <h2 style=\"text-align: center;\">\n",
        "    <span style=\"color: #FFFFFF;\">AI Realtime Voice Changer On Google Colab</span>\n",
        "\n",
        "   <h2 style=\"text-align: center;\">\n",
        "    <span style=\"color: #FFFFFF;\">Notebook By FreyzaMarshall</span>\n",
        "\n",
        "  </h2>\n",
        "  </span>\n",
        "  </h2>\n",
        "  <a href=\"https://ko-fi.com/freyzamarshall\" target=\"_parent\"><img src=\"https://img.shields.io/badge/Ko--fi-F16061?style=for-the-badge&logo=ko-fi&logoColor=white\" align=\"right\" alt=\"Open\"></a>\n",
        "\n",
        "   <a href=\"https://discord.gg/sr5kyhRy3x\" target=\"_parent\"><img src=\"https://img.shields.io/badge/Discord-5865F2?style=for-the-badge&logo=discord&logoColor=white\" align=\"right\" alt=\"Open\"></a>\n",
        "\n",
        "  <a href=\"https://www.youtube.com/@FreyzaMarshall_\" target=\"_parent\"><img src=\"https://img.shields.io/badge/YouTube-FF0000?style=for-the-badge&logo=youtube&logoColor=white\" align=\"right\" alt=\"Open\"></a>\n",
        "\n",
        "\n",
        "For mobile user may experience bugs and feature limitations."
      ]
    },
    {
      "cell_type": "markdown",
      "source": [
        "# Maintenance!\n",
        "# Tunggu Sampai Perbaikan Selesai"
      ],
      "metadata": {
        "id": "BlXvvAOKdYxB"
      }
    }
  ],
  "metadata": {
    "accelerator": "GPU",
    "colab": {
      "gpuType": "T4",
      "provenance": [],
      "include_colab_link": true
    },
    "kernelspec": {
      "display_name": "Python 3",
      "name": "python3"
    },
    "language_info": {
      "name": "python"
    }
  },
  "nbformat": 4,
  "nbformat_minor": 0
}